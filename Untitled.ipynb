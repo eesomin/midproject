{
 "cells": [
  {
   "cell_type": "code",
   "execution_count": null,
   "id": "55e71e4a",
   "metadata": {},
   "outputs": [],
   "source": [
    "print(1+3)"
   ]
  },
  {
   "cell_type": "code",
   "execution_count": null,
   "id": "2c2e137d",
   "metadata": {},
   "outputs": [],
   "source": [
    "print(\"안녕하세요\")"
   ]
  },
  {
   "cell_type": "code",
   "execution_count": null,
   "id": "dde445c0",
   "metadata": {},
   "outputs": [],
   "source": []
  }
 ],
 "metadata": {
  "kernelspec": {
   "display_name": "Python 3 (ipykernel)",
   "language": "python",
   "name": "python3"
  }
 },
 "nbformat": 4,
 "nbformat_minor": 5
}
